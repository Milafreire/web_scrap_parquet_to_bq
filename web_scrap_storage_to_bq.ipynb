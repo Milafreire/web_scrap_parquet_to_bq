{
  "cells": [
    {
      "cell_type": "markdown",
      "metadata": {
        "id": "view-in-github",
        "colab_type": "text"
      },
      "source": [
        "<a href=\"https://colab.research.google.com/github/Milafreire/web_scrap_parquet_to_bq/blob/main/web_scrap_storage_to_bq.ipynb\" target=\"_parent\"><img src=\"https://colab.research.google.com/assets/colab-badge.svg\" alt=\"Open In Colab\"/></a>"
      ]
    },
    {
      "cell_type": "code",
      "execution_count": null,
      "metadata": {
        "id": "LILsSKV8eKv9",
        "collapsed": true
      },
      "outputs": [],
      "source": [
        "!pip install apache-beam[interactive,dataframe,gcp]"
      ]
    },
    {
      "cell_type": "markdown",
      "metadata": {
        "id": "ZyZ79GnZ3Ggx"
      },
      "source": [
        "##Configs"
      ]
    },
    {
      "cell_type": "code",
      "execution_count": null,
      "metadata": {
        "id": "4h9GKe2RmxPx"
      },
      "outputs": [],
      "source": [
        "import pyarrow as pq\n",
        "import os\n",
        "import apache_beam as beam\n",
        "from apache_beam.options.pipeline_options import PipelineOptions\n",
        "from google.cloud import bigquery\n",
        "from apache_beam.transforms.sql import SqlTransform\n",
        "from apache_beam.io import ReadFromParquet"
      ]
    },
    {
      "cell_type": "code",
      "execution_count": null,
      "metadata": {
        "colab": {
          "base_uri": "https://localhost:8080/"
        },
        "id": "Fnphzp1-boX2",
        "outputId": "b0f60deb-1398-4ece-a10f-f97566cf4d8c"
      },
      "outputs": [
        {
          "output_type": "stream",
          "name": "stdout",
          "text": [
            "Authenticated\n"
          ]
        }
      ],
      "source": [
        "# Google Auth\n",
        "from google.colab import auth\n",
        "auth.authenticate_user()\n",
        "print('Authenticated')\n",
        "\n",
        "# GCP Project\n",
        "os.environ[\"GOOGLE_CLOUD_PROJECT\"]= 'mywebscrap-423316'"
      ]
    },
    {
      "cell_type": "markdown",
      "metadata": {
        "id": "Py6M-kKW3LUe"
      },
      "source": [
        "##Methods"
      ]
    },
    {
      "cell_type": "markdown",
      "metadata": {
        "id": "KwlEuVbY3NkP"
      },
      "source": [
        "##Pipeline Options\n"
      ]
    },
    {
      "cell_type": "code",
      "execution_count": null,
      "metadata": {
        "id": "uOyUbvlCPe7Y"
      },
      "outputs": [],
      "source": [
        "# Config Pipeline Options\n",
        "pipeline_options = {\n",
        "      'project': 'mywebscrap-423316'\n",
        "      }\n",
        "pipeline_options = PipelineOptions.from_dictionary(pipeline_options)\n",
        "pipeline = beam.Pipeline(options=pipeline_options)"
      ]
    },
    {
      "cell_type": "markdown",
      "metadata": {
        "id": "IWlWOcOSPod5"
      },
      "source": [
        " # Call Pipeline and pass parameters"
      ]
    },
    {
      "cell_type": "code",
      "execution_count": null,
      "metadata": {
        "id": "ITQWpWsPKNj8"
      },
      "outputs": [],
      "source": [
        "def insert_scrap_data_to_bq(pipeline, table_scrap, temp_location):\n",
        "    schema='id:INTEGER, product_name:STRING, bar_code:STRING, category:STRING, price:FLOAT, qty_stock:INTEGER, star_rating:STRING, extraction_date:DATE'\n",
        "\n",
        "    web_scrap_data = (\n",
        "        pipeline\n",
        "        | 'Write To ParquetCloud Storage' >> beam.io.ReadFromParquet(input_file)\n",
        "    )\n",
        "\n",
        "    web_scrap_data | 'Write to Big Query' >> beam.io.WriteToBigQuery(\n",
        "            table_scrap,\n",
        "            schema=schema,\n",
        "            create_disposition=beam.io.BigQueryDisposition.CREATE_IF_NEEDED,\n",
        "            write_disposition=beam.io.BigQueryDisposition.WRITE_APPEND,\n",
        "            custom_gcs_temp_location=temp_location\n",
        "        )\n",
        "    pipeline.run().wait_until_finish()"
      ]
    },
    {
      "cell_type": "code",
      "execution_count": null,
      "metadata": {
        "id": "5GE9PYp26awf"
      },
      "outputs": [],
      "source": [
        "def category_analise(pipeline, table_analise, temp_location):\n",
        "  query = '''\n",
        "  SELECT\n",
        "      category,\n",
        "      MIN(price) AS min_price,\n",
        "      APPROX_QUANTILES(price, 100)[OFFSET(50)] AS median_price,\n",
        "      MAX(price) AS max_price,\n",
        "      MIN(CASE star_rating WHEN 'One' THEN 1 WHEN 'Two' THEN 2 WHEN 'Three' THEN 3 WHEN 'Four' THEN 4 WHEN 'Five' THEN 5 END) AS min_star_rating,\n",
        "      APPROX_QUANTILES(CASE star_rating WHEN 'One' THEN 1 WHEN 'Two' THEN 2 WHEN 'Three' THEN 3 WHEN 'Four' THEN 4 WHEN 'Five' THEN 5 END, 100)[OFFSET(50)] AS median_star_rating,\n",
        "      MAX(CASE star_rating WHEN 'One' THEN 1 WHEN 'Two' THEN 2 WHEN 'Three' THEN 3 WHEN 'Four' THEN 4 WHEN 'Five' THEN 5 END) AS max_star_rating,\n",
        "      ARRAY_AGG(product_name ORDER BY price DESC, product_name LIMIT 1)[OFFSET(0)] AS product_highest_price,\n",
        "      ARRAY_AGG(product_name ORDER BY CASE star_rating WHEN 'One' THEN 1 WHEN 'Two' THEN 2 WHEN 'Three' THEN 3 WHEN 'Four' THEN 4 WHEN 'Five' THEN 5 END DESC, product_name LIMIT 1)[OFFSET(0)] AS product_highest_rating\n",
        "  FROM\n",
        "      `mywebscrap-423316.estudos_gcp.books_to_scrap`\n",
        "  GROUP BY\n",
        "      category;\n",
        "  '''\n",
        "\n",
        "  execute_sql = (\n",
        "    pipeline\n",
        "    | 'Execute SQL Query' >> beam.io.ReadFromBigQuery(query=query, use_standard_sql=True, gcs_location=temp_location)\n",
        "  )\n",
        "\n",
        "  execute_sql | 'Write To BigQuery' >> beam.io.WriteToBigQuery(\n",
        "      table_analise,\n",
        "      schema='SCHEMA_AUTODETECT',\n",
        "      create_disposition=beam.io.BigQueryDisposition.CREATE_IF_NEEDED,\n",
        "      write_disposition=beam.io.BigQueryDisposition.WRITE_TRUNCATE,\n",
        "      custom_gcs_temp_location = temp_location\n",
        "  )\n",
        "  pipeline.run()"
      ]
    },
    {
      "cell_type": "code",
      "execution_count": null,
      "metadata": {
        "id": "fnVToamAIlv4"
      },
      "outputs": [],
      "source": [
        " # Call Pipeline and pass parameters\n",
        "if __name__ == '__main__':\n",
        "    url = 'https://books.toscrape.com/catalogue/page-1.html'\n",
        "    input_file = 'gs://myscraptest/parquet_files/scrap_data'\n",
        "    table_scrap = 'mywebscrap-423316.estudos_gcp.books_to_scrap'\n",
        "    table_analise='mywebscrap-423316.estudos_gcp.category_analytics'\n",
        "    temp_location = 'gs://myscraptest/temp/'\n",
        "    insert_scrap_data_to_bq(pipeline, table_scrap, temp_location)\n",
        "    category_analise(pipeline, table_analise, temp_location)"
      ]
    }
  ],
  "metadata": {
    "colab": {
      "provenance": [],
      "toc_visible": true,
      "authorship_tag": "ABX9TyOoj3Nuuo/VuVikwEZ61zq5",
      "include_colab_link": true
    },
    "kernelspec": {
      "display_name": "Python 3",
      "name": "python3"
    },
    "language_info": {
      "name": "python"
    }
  },
  "nbformat": 4,
  "nbformat_minor": 0
}
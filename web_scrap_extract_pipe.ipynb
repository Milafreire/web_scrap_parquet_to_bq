{
  "cells": [
    {
      "cell_type": "markdown",
      "metadata": {
        "id": "view-in-github",
        "colab_type": "text"
      },
      "source": [
        "<a href=\"https://colab.research.google.com/github/Milafreire/web_scrap_wh_apache_beam_airflow/blob/main/web_scrap_extract_pipe.ipynb\" target=\"_parent\"><img src=\"https://colab.research.google.com/assets/colab-badge.svg\" alt=\"Open In Colab\"/></a>"
      ]
    },
    {
      "cell_type": "markdown",
      "metadata": {
        "id": "ZyZ79GnZ3Ggx"
      },
      "source": [
        "##Configs"
      ]
    },
    {
      "cell_type": "code",
      "source": [
        "!pip install requests beautifulsoup4"
      ],
      "metadata": {
        "id": "ZESYvQl5AlEi",
        "collapsed": true,
        "colab": {
          "base_uri": "https://localhost:8080/"
        },
        "outputId": "21136639-352a-4ad4-c340-1c91f81db6cc"
      },
      "execution_count": 3,
      "outputs": [
        {
          "output_type": "stream",
          "name": "stdout",
          "text": [
            "Requirement already satisfied: requests in /usr/local/lib/python3.10/dist-packages (2.31.0)\n",
            "Requirement already satisfied: beautifulsoup4 in /usr/local/lib/python3.10/dist-packages (4.12.3)\n",
            "Requirement already satisfied: charset-normalizer<4,>=2 in /usr/local/lib/python3.10/dist-packages (from requests) (3.3.2)\n",
            "Requirement already satisfied: idna<4,>=2.5 in /usr/local/lib/python3.10/dist-packages (from requests) (3.7)\n",
            "Requirement already satisfied: urllib3<3,>=1.21.1 in /usr/local/lib/python3.10/dist-packages (from requests) (2.0.7)\n",
            "Requirement already satisfied: certifi>=2017.4.17 in /usr/local/lib/python3.10/dist-packages (from requests) (2024.2.2)\n",
            "Requirement already satisfied: soupsieve>1.2 in /usr/local/lib/python3.10/dist-packages (from beautifulsoup4) (2.5)\n"
          ]
        }
      ]
    },
    {
      "cell_type": "code",
      "execution_count": 4,
      "metadata": {
        "id": "4h9GKe2RmxPx"
      },
      "outputs": [],
      "source": [
        "#requirements\n",
        "import requests\n",
        "from bs4 import BeautifulSoup\n",
        "import pandas as pd\n",
        "import os\n",
        "from datetime import datetime"
      ]
    },
    {
      "cell_type": "code",
      "execution_count": 5,
      "metadata": {
        "colab": {
          "base_uri": "https://localhost:8080/"
        },
        "id": "Fnphzp1-boX2",
        "outputId": "449b0d62-6850-41be-c873-cb67b7926f32"
      },
      "outputs": [
        {
          "output_type": "stream",
          "name": "stdout",
          "text": [
            "Authenticated\n"
          ]
        }
      ],
      "source": [
        "# Google Auth\n",
        "from google.colab import auth\n",
        "auth.authenticate_user()\n",
        "print('Authenticated')\n",
        "\n",
        "# GCP Project\n",
        "os.environ[\"GOOGLE_CLOUD_PROJECT\"]= 'mywebscrap-423316'"
      ]
    },
    {
      "cell_type": "code",
      "execution_count": 6,
      "metadata": {
        "id": "DWHGtwu11svs"
      },
      "outputs": [],
      "source": [
        "table_storage='gs://myscraptest/parquet_files/scrap_data'\n",
        "initial_url = 'https://books.toscrape.com/catalogue/page-1.html'"
      ]
    },
    {
      "cell_type": "markdown",
      "metadata": {
        "id": "Py6M-kKW3LUe"
      },
      "source": [
        "##Methods"
      ]
    },
    {
      "cell_type": "code",
      "execution_count": 7,
      "metadata": {
        "id": "UAPz59xi1A4v"
      },
      "outputs": [],
      "source": [
        "def get_book_details(book, book_id):\n",
        "    title = book.find('h3').find('a').get('title')\n",
        "    link = book.find('h3').find('a').get('href')\n",
        "    details_url = f'https://books.toscrape.com/catalogue/{link}'\n",
        "\n",
        "    book_response = requests.get(details_url)\n",
        "    book_soup = BeautifulSoup(book_response.text, 'html.parser')\n",
        "\n",
        "    upc = book_soup.find('th', text='UPC').find_next_sibling('td').text\n",
        "    price_text = book_soup.find('th', text='Price (excl. tax)').find_next_sibling('td').text\n",
        "    price = float(price_text.replace('£', '').replace('Â', '').strip())\n",
        "    stock_text = book_soup.find('th', text='Availability').find_next_sibling('td').text\n",
        "    stock = int(stock_text.split(' ')[2].strip('()'))\n",
        "    category = book_soup.find('ul', class_='breadcrumb').find_all('a')[2].text\n",
        "    rating_class = book_soup.find('p', class_='star-rating')['class']\n",
        "    rating = rating_class[1] if len(rating_class) > 1 else 'Zero'\n",
        "    reviews = int(book_soup.find('th', text='Number of reviews').find_next_sibling('td').text)\n",
        "    extraction_date = datetime.now().strftime('%Y-%m-%d')\n",
        "\n",
        "    return {\n",
        "        'id': book_id,\n",
        "        'bar_code': upc,\n",
        "        'product_name': title,\n",
        "        'category': category,\n",
        "        'price': price,\n",
        "        'qty_stock': stock,\n",
        "        'star_rating': rating,\n",
        "        'extraction_date': extraction_date\n",
        "    }"
      ]
    },
    {
      "cell_type": "code",
      "source": [
        "def scrape_books(base_url):\n",
        "    all_books = []\n",
        "    url = base_url\n",
        "    book_id = 1\n",
        "\n",
        "    while url:\n",
        "        response = requests.get(url)\n",
        "        soup = BeautifulSoup(response.text, 'html.parser')\n",
        "        books = soup.find_all('article', class_='product_pod')\n",
        "\n",
        "        for book in books:\n",
        "            book_details = get_book_details(book, book_id)\n",
        "            all_books.append(book_details)\n",
        "            book_id += 1\n",
        "\n",
        "        next_link = soup.find('li', class_='next')\n",
        "        url = f\"https://books.toscrape.com/catalogue/{next_link.find('a')['href']}\" if next_link else None\n",
        "\n",
        "    return pd.DataFrame(all_books)"
      ],
      "metadata": {
        "id": "44yl1cwC4UVb"
      },
      "execution_count": 8,
      "outputs": []
    },
    {
      "cell_type": "markdown",
      "source": [
        "##Storage"
      ],
      "metadata": {
        "id": "yx9eQocVAOjw"
      }
    },
    {
      "cell_type": "code",
      "source": [
        "books_df = scrape_books(initial_url)\n",
        "books_df.to_parquet(table_storage)"
      ],
      "metadata": {
        "colab": {
          "base_uri": "https://localhost:8080/"
        },
        "id": "XIKcs8we4WP7",
        "outputId": "cac6bfb1-8d4b-4ac6-8860-bf9a606d5457"
      },
      "execution_count": 9,
      "outputs": [
        {
          "output_type": "stream",
          "name": "stderr",
          "text": [
            "<ipython-input-7-6555d57d3857>:9: DeprecationWarning: The 'text' argument to find()-type methods is deprecated. Use 'string' instead.\n",
            "  upc = book_soup.find('th', text='UPC').find_next_sibling('td').text\n",
            "<ipython-input-7-6555d57d3857>:10: DeprecationWarning: The 'text' argument to find()-type methods is deprecated. Use 'string' instead.\n",
            "  price_text = book_soup.find('th', text='Price (excl. tax)').find_next_sibling('td').text\n",
            "<ipython-input-7-6555d57d3857>:12: DeprecationWarning: The 'text' argument to find()-type methods is deprecated. Use 'string' instead.\n",
            "  stock_text = book_soup.find('th', text='Availability').find_next_sibling('td').text\n",
            "<ipython-input-7-6555d57d3857>:17: DeprecationWarning: The 'text' argument to find()-type methods is deprecated. Use 'string' instead.\n",
            "  reviews = int(book_soup.find('th', text='Number of reviews').find_next_sibling('td').text)\n"
          ]
        }
      ]
    },
    {
      "cell_type": "markdown",
      "source": [
        "##Viewing the dataframe"
      ],
      "metadata": {
        "id": "BudxAqR7ASYf"
      }
    },
    {
      "cell_type": "code",
      "source": [
        "df = pd.read_parquet('gs://myscraptest/parquet_files/scrap_data')\n",
        "print(df)"
      ],
      "metadata": {
        "colab": {
          "base_uri": "https://localhost:8080/"
        },
        "id": "ZYWzr0qm5cNT",
        "outputId": "01ab5577-0605-4242-e30e-57fbf8fd5802"
      },
      "execution_count": 10,
      "outputs": [
        {
          "output_type": "stream",
          "name": "stdout",
          "text": [
            "       id          bar_code  \\\n",
            "0       1  a897fe39b1053632   \n",
            "1       2  90fa61229261140a   \n",
            "2       3  6957f44c3847a760   \n",
            "3       4  e00eb4fd7b871a48   \n",
            "4       5  4165285e1663650f   \n",
            "..    ...               ...   \n",
            "995   996  cd2a2a70dd5d176d   \n",
            "996   997  bfd5e1701c862ac3   \n",
            "997   998  19fec36a1dfb4c16   \n",
            "998   999  f684a82adc49f011   \n",
            "999  1000  228ba5e7577e1d49   \n",
            "\n",
            "                                          product_name            category  \\\n",
            "0                                 A Light in the Attic              Poetry   \n",
            "1                                   Tipping the Velvet  Historical Fiction   \n",
            "2                                           Soumission             Fiction   \n",
            "3                                        Sharp Objects             Mystery   \n",
            "4                Sapiens: A Brief History of Humankind             History   \n",
            "..                                                 ...                 ...   \n",
            "995  Alice in Wonderland (Alice's Adventures in Won...            Classics   \n",
            "996   Ajin: Demi-Human, Volume 1 (Ajin: Demi-Human #1)      Sequential Art   \n",
            "997  A Spy's Devotion (The Regency Spies of London #1)  Historical Fiction   \n",
            "998                1st to Die (Women's Murder Club #1)             Mystery   \n",
            "999                 1,000 Places to See Before You Die              Travel   \n",
            "\n",
            "     price  qty_stock star_rating extraction_date  \n",
            "0    51.77         22       Three      2024-05-17  \n",
            "1    53.74         20         One      2024-05-17  \n",
            "2    50.10         20         One      2024-05-17  \n",
            "3    47.82         20        Four      2024-05-17  \n",
            "4    54.23         20        Five      2024-05-17  \n",
            "..     ...        ...         ...             ...  \n",
            "995  55.53          1         One      2024-05-17  \n",
            "996  57.06          1        Four      2024-05-17  \n",
            "997  16.97          1        Five      2024-05-17  \n",
            "998  53.98          1         One      2024-05-17  \n",
            "999  26.08          1        Five      2024-05-17  \n",
            "\n",
            "[1000 rows x 8 columns]\n"
          ]
        }
      ]
    }
  ],
  "metadata": {
    "colab": {
      "provenance": [],
      "toc_visible": true,
      "collapsed_sections": [
        "ZyZ79GnZ3Ggx",
        "Py6M-kKW3LUe",
        "yx9eQocVAOjw",
        "BudxAqR7ASYf"
      ],
      "authorship_tag": "ABX9TyM2YP8cUFRgF06cp4ovW8s8",
      "include_colab_link": true
    },
    "kernelspec": {
      "display_name": "Python 3",
      "name": "python3"
    },
    "language_info": {
      "name": "python"
    }
  },
  "nbformat": 4,
  "nbformat_minor": 0
}